{
 "cells": [
  {
   "cell_type": "code",
   "execution_count": 19,
   "metadata": {
    "scrolled": true
   },
   "outputs": [],
   "source": [
    "# install packages as needed\n",
    "#! pip install adal\n",
    "#! pip install pandas\n",
    "#! pip install scikit-learn \n",
    "\n"
   ]
  },
  {
   "cell_type": "markdown",
   "metadata": {},
   "source": [
    "## Utility methods for authenticating and retrieving data from ADLS Gen2 \n",
    "The next cell contains a series of helper methods which are primarily used to abstract away connectivity, security and enumeration.\n",
    "\n",
    "All of the secrets will need to be filled in with secrets of your own."
   ]
  },
  {
   "cell_type": "code",
   "execution_count": 20,
   "metadata": {},
   "outputs": [],
   "source": [
    "from adal import AuthenticationContext\n",
    "import requests\n",
    "import pandas as pd\n",
    "from datetime import datetime\n",
    "from io import StringIO, BytesIO\n",
    "\n",
    "def read_stream_from_adls(endpoint, auth):\n",
    "    headers = {\"Authorization\": \"Bearer \" + auth['accessToken']}\n",
    "    return requests.get(endpoint, data = None, headers = headers, stream=True)\n",
    "\n",
    "def read_from_adls(endpoint, auth):\n",
    "    headers = {\"Authorization\": \"Bearer \" + auth['accessToken']}\n",
    "    return requests.get(endpoint, data = None, headers = headers)\n",
    "\n",
    "# generate AAD token for REST API authentication\n",
    "def generate_aad_token():\n",
    "    resource = \"https://storage.azure.com/\"\n",
    "    client_secret = \"Lky5pTg2teniHdbeTlmOuivjdIPBPcwMQJ49wGwKiXA=\"\n",
    "    client_id = \"bd8e91da-c58c-4407-95e0-a8ecad012fc7\"\n",
    "    authority_url = \"https://login.microsoftonline.com/72f988bf-86f1-41af-91ab-2d7cd011db47/\"\n",
    "    auth_context = AuthenticationContext(authority_url, api_version = None)\n",
    "    return auth_context.acquire_token_with_client_credentials(resource, client_id, client_secret)\n",
    "\n",
    "\n",
    "def type_conveter(input_type):\n",
    "    switcher = {\n",
    "        'boolean': 'bool',\n",
    "        'int64': 'int64'\n",
    "    }\n",
    "    return switcher.get(input_type, 'str')\n",
    "\n",
    "def read_from_adls_with_cdm_format(entity, schema = \"cdm\"):\n",
    "    auth = generate_aad_token()\n",
    "    csv_path = entity.partitions[0].location\n",
    "    csv_bytes = read_stream_from_adls(endpoint = csv_path, auth = auth).content\n",
    "    \n",
    "    # read to pandas dataframe with defined schema from model.json\n",
    "    names = [attribute.name for attribute in entity.attributes]\n",
    "    types = dict([(attribute.name, type_conveter(attribute.dataType.value)) for attribute in entity.attributes]) if schema is \"cdm\" else dict([(attribute.name, 'str') for attribute in entity.attributes])\n",
    "    \n",
    "    # Generate the data frame forcing the column names and types to be those from the model.json schema\n",
    "    buff = BytesIO(csv_bytes)\n",
    "    df = pd.read_csv(buff, names=names, dtype=types, na_filter = False)\n",
    "    buff.close()\n",
    "    return df"
   ]
  },
  {
   "cell_type": "markdown",
   "metadata": {},
   "source": [
    "## Retrieve CDM specific metadata\n",
    "The first step is to read a model file that contains information about the CDM Entities that can be used later. This information will be supplied to the helper methods above so that the information in the model file can be used to ensure that the dataframe that is used for modelling at the end of this notebook is correct and matches the model specification.\n",
    "\n",
    "NOTE: the CdmModel.py file must be available so that it can be imported, the easiest way to do this is simply to have it in the same directory as the notebook, although it can also be referenced as a library. For this notebook the assumption is that its in the same notebook."
   ]
  },
  {
   "cell_type": "code",
   "execution_count": 21,
   "metadata": {},
   "outputs": [],
   "source": [
    "# read model.json\n",
    "import CdmModel\n",
    "\n",
    "model_endpoint = \"https://cdsabyosadev01dxt.dfs.core.windows.net/powerbi/WWI-BG1/WWI-Sales/model.json\"\n",
    "aad_token = generate_aad_token()\n",
    "model_json = read_from_adls(endpoint = model_endpoint, auth = aad_token).json()\n",
    "model = CdmModel.Model.fromJson(model_json)"
   ]
  },
  {
   "cell_type": "markdown",
   "metadata": {},
   "source": [
    "# Scenario: Customer Order Classification\n",
    "\n",
    "Our hypothesis is that larger customers (by category) will have alrger purchuses (by invoice). Currently we have the following customer category {'Novelty Shop', 'Supermarket', 'Computer Store', 'General Retailer', 'Agent', 'Gift Store', 'Wholesaler', 'Corporate'}"
   ]
  },
  {
   "cell_type": "markdown",
   "metadata": {},
   "source": [
    "## Preprocessing Data\n",
    "Before we start modelling we need to do some basic data preparation of the data. \n",
    "\n",
    "Our first step is to read the data using the CDM information we got from the model file to enforce column naming and column type for each of the entities.\n",
    "\n",
    "Once we have good clean dataframes for each of the entities we join them to generate a single flat data frame that is the preferred input for most types of models.\n",
    "\n",
    "NOTE: The cell below can take some time to execute."
   ]
  },
  {
   "cell_type": "code",
   "execution_count": 22,
   "metadata": {},
   "outputs": [
    {
     "data": {
      "text/html": [
       "<div>\n",
       "<style scoped>\n",
       "    .dataframe tbody tr th:only-of-type {\n",
       "        vertical-align: middle;\n",
       "    }\n",
       "\n",
       "    .dataframe tbody tr th {\n",
       "        vertical-align: top;\n",
       "    }\n",
       "\n",
       "    .dataframe thead th {\n",
       "        text-align: right;\n",
       "    }\n",
       "</style>\n",
       "<table border=\"1\" class=\"dataframe\">\n",
       "  <thead>\n",
       "    <tr style=\"text-align: right;\">\n",
       "      <th></th>\n",
       "      <th>InvoiceLineID</th>\n",
       "      <th>InvoiceID</th>\n",
       "      <th>StockItemID</th>\n",
       "      <th>PackageTypeID</th>\n",
       "      <th>Quantity</th>\n",
       "      <th>UnitPrice</th>\n",
       "      <th>LineProfit</th>\n",
       "      <th>ExtendedPrice</th>\n",
       "      <th>DeliveryMethodID</th>\n",
       "      <th>CustomerID</th>\n",
       "      <th>CustomerCategoryID</th>\n",
       "    </tr>\n",
       "  </thead>\n",
       "  <tbody>\n",
       "    <tr>\n",
       "      <th>0</th>\n",
       "      <td>1</td>\n",
       "      <td>1</td>\n",
       "      <td>67</td>\n",
       "      <td>7</td>\n",
       "      <td>10</td>\n",
       "      <td>230.0</td>\n",
       "      <td>850.0</td>\n",
       "      <td>2645.00</td>\n",
       "      <td>3</td>\n",
       "      <td>832</td>\n",
       "      <td>4</td>\n",
       "    </tr>\n",
       "    <tr>\n",
       "      <th>1</th>\n",
       "      <td>97</td>\n",
       "      <td>45</td>\n",
       "      <td>164</td>\n",
       "      <td>7</td>\n",
       "      <td>50</td>\n",
       "      <td>112.0</td>\n",
       "      <td>2650.0</td>\n",
       "      <td>6440.00</td>\n",
       "      <td>3</td>\n",
       "      <td>832</td>\n",
       "      <td>4</td>\n",
       "    </tr>\n",
       "    <tr>\n",
       "      <th>2</th>\n",
       "      <td>1363</td>\n",
       "      <td>496</td>\n",
       "      <td>8</td>\n",
       "      <td>9</td>\n",
       "      <td>3</td>\n",
       "      <td>240.0</td>\n",
       "      <td>454.5</td>\n",
       "      <td>828.00</td>\n",
       "      <td>3</td>\n",
       "      <td>832</td>\n",
       "      <td>4</td>\n",
       "    </tr>\n",
       "    <tr>\n",
       "      <th>3</th>\n",
       "      <td>1364</td>\n",
       "      <td>496</td>\n",
       "      <td>196</td>\n",
       "      <td>7</td>\n",
       "      <td>72</td>\n",
       "      <td>4.1</td>\n",
       "      <td>151.2</td>\n",
       "      <td>339.48</td>\n",
       "      <td>3</td>\n",
       "      <td>832</td>\n",
       "      <td>4</td>\n",
       "    </tr>\n",
       "    <tr>\n",
       "      <th>4</th>\n",
       "      <td>4050</td>\n",
       "      <td>1296</td>\n",
       "      <td>64</td>\n",
       "      <td>7</td>\n",
       "      <td>9</td>\n",
       "      <td>30.0</td>\n",
       "      <td>135.0</td>\n",
       "      <td>310.50</td>\n",
       "      <td>3</td>\n",
       "      <td>832</td>\n",
       "      <td>4</td>\n",
       "    </tr>\n",
       "  </tbody>\n",
       "</table>\n",
       "</div>"
      ],
      "text/plain": [
       "   InvoiceLineID  InvoiceID  StockItemID  PackageTypeID  Quantity  UnitPrice  \\\n",
       "0              1          1           67              7        10      230.0   \n",
       "1             97         45          164              7        50      112.0   \n",
       "2           1363        496            8              9         3      240.0   \n",
       "3           1364        496          196              7        72        4.1   \n",
       "4           4050       1296           64              7         9       30.0   \n",
       "\n",
       "   LineProfit  ExtendedPrice  DeliveryMethodID  CustomerID  CustomerCategoryID  \n",
       "0       850.0        2645.00                 3         832                   4  \n",
       "1      2650.0        6440.00                 3         832                   4  \n",
       "2       454.5         828.00                 3         832                   4  \n",
       "3       151.2         339.48                 3         832                   4  \n",
       "4       135.0         310.50                 3         832                   4  "
      ]
     },
     "execution_count": 22,
     "metadata": {},
     "output_type": "execute_result"
    }
   ],
   "source": [
    "import numpy as np\n",
    "from IPython.display import display\n",
    "\n",
    "sales_customer_categories_df = read_from_adls_with_cdm_format(model.entities[\"Sales CustomerCategories\"], \"cdm\")[['CustomerCategoryID', 'CustomerCategoryName']]\n",
    "sales_customer_df = read_from_adls_with_cdm_format(model.entities[\"Sales Customers\"], \"default\")[['CustomerID', 'CustomerCategoryID']]\n",
    "sales_customer_df = sales_customer_df[['CustomerID', 'CustomerCategoryID']].astype(np.int64)\n",
    "\n",
    "sales_invoice_line_df = read_from_adls_with_cdm_format(model.entities[\"Sales InvoiceLines\"], \"cdm\")\n",
    "sales_invoice_df = read_from_adls_with_cdm_format(model.entities[\"Sales Invoices\"], \"cdm\")\n",
    "\n",
    "#Join the 2 elements of invoice together\n",
    "order_invoice_df = pd.merge(sales_invoice_line_df, sales_invoice_df, on=['InvoiceID'])\n",
    "\n",
    "#Join customers to their invoices and fix up the datatypes\n",
    "combined_df = pd.merge(order_invoice_df, sales_customer_df, on=['CustomerID'])\n",
    "combined_df = combined_df[['InvoiceLineID', 'InvoiceID', 'StockItemID', 'PackageTypeID', 'Quantity', 'UnitPrice', 'LineProfit', 'ExtendedPrice', 'DeliveryMethodID', 'CustomerID', 'CustomerCategoryID']]\n",
    "\n",
    "#These columns come back as object we need them to be floats.\n",
    "for col in ['UnitPrice', 'LineProfit', 'ExtendedPrice']:\n",
    "    combined_df[col] = combined_df[col].astype(np.float64)\n",
    " \n",
    "combined_df.head(5)"
   ]
  },
  {
   "cell_type": "markdown",
   "metadata": {},
   "source": [
    "## Create Models\n",
    "Using sklearn we will take the CDM data and build a (simple) machine learning model from it. In this case we are going to build a simple logistic regression model just to demonstrate the process and approach."
   ]
  },
  {
   "cell_type": "code",
   "execution_count": 23,
   "metadata": {},
   "outputs": [
    {
     "name": "stdout",
     "output_type": "stream",
     "text": [
      "Logistic Regression: 0.71\n"
     ]
    }
   ],
   "source": [
    "from sklearn.model_selection import train_test_split\n",
    "from sklearn.linear_model import LogisticRegression\n",
    "\n",
    "#Set up the target and feature columns before splitting into training and testing\n",
    "target_df = combined_df['CustomerCategoryID']\n",
    "features_df = combined_df.drop(['CustomerCategoryID'], axis = 1) \n",
    "X_train, X_test, y_train, y_test = train_test_split(features_df, target_df, test_size = 0.3)\n",
    "\n",
    "lr = LogisticRegression()\n",
    "\n",
    "lr.fit(X_train, y_train)\n",
    "y_pred = lr.predict(X_test)\n",
    "\n",
    "lr_accuracy = lr.score(X_test, y_test)\n",
    "prob = lr.predict_proba(X_test)[:,1]\n",
    "\n",
    "print(\"Logistic Regression: \" + str(round(lr_accuracy,2)))"
   ]
  },
  {
   "cell_type": "markdown",
   "metadata": {},
   "source": [
    "The accuracy of the result should be 0.71, which is not especially good. In a real modelling exercise we would go back and tweak the columns in the model, featurise them and also potentially experiment with parameters to the LR model. All in the hope that a more accurate model is possible."
   ]
  }
 ],
 "metadata": {
  "kernelspec": {
   "display_name": "Python [conda env:amlsdk]",
   "language": "python",
   "name": "conda-env-amlsdk-py"
  },
  "language_info": {
   "codemirror_mode": {
    "name": "ipython",
    "version": 3
   },
   "file_extension": ".py",
   "mimetype": "text/x-python",
   "name": "python",
   "nbconvert_exporter": "python",
   "pygments_lexer": "ipython3",
   "version": "3.6.6"
  }
 },
 "nbformat": 4,
 "nbformat_minor": 2
}
